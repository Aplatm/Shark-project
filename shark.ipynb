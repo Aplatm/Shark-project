{
 "cells": [
  {
   "cell_type": "code",
   "execution_count": 1,
   "metadata": {
    "pycharm": {
     "name": "#%%\n"
    }
   },
   "outputs": [],
   "source": [
    "import pandas as pd\n",
    "import numpy as np\n",
    "\n",
    "\n",
    "# Para que me enseñe todas las columnaas del dataframe\n",
    "pd.set_option(\"display.max_columns\", None)\n",
    "\n",
    "# ignorar errores de versiones posteriores , o cambios en python\n",
    "import warnings\n",
    "warnings.simplefilter(\"ignore\")\n",
    "\n",
    "#para pintar\n",
    "import pylab as plt\n",
    "import seaborn as sns\n",
    "\n",
    "# para que salga el grafico\n",
    "%matplotlib inline"
   ]
  },
  {
   "cell_type": "code",
   "execution_count": 2,
   "metadata": {
    "pycharm": {
     "name": "#%%\n"
    }
   },
   "outputs": [],
   "source": [
    "data= pd.read_csv(\"attacks.csv\", encoding= \"latin1\") #importo el csv y se lo asigno a la variable data"
   ]
  },
  {
   "cell_type": "code",
   "execution_count": 3,
   "metadata": {
    "pycharm": {
     "name": "#%%\n"
    }
   },
   "outputs": [
    {
     "data": {
      "text/plain": "  Case Number         Date    Year        Type    Country             Area  \\\n0  2018.06.25  25-Jun-2018  2018.0     Boating        USA       California   \n1  2018.06.18  18-Jun-2018  2018.0  Unprovoked        USA          Georgia   \n2  2018.06.09  09-Jun-2018  2018.0     Invalid        USA           Hawaii   \n3  2018.06.08  08-Jun-2018  2018.0  Unprovoked  AUSTRALIA  New South Wales   \n4  2018.06.04  04-Jun-2018  2018.0    Provoked     MEXICO           Colima   \n\n                         Location     Activity             Name Sex   Age  \\\n0     Oceanside, San Diego County     Paddling      Julie Wolfe    F   57   \n1  St. Simon Island, Glynn County     Standing  Adyson McNeely     F   11   \n2                    Habush, Oahu      Surfing      John Denges    M   48   \n3              Arrawarra Headland      Surfing             male    M  NaN   \n4                        La Ticla  Free diving   Gustavo Ramos     M  NaN   \n\n                                              Injury Fatal (Y/N)  \\\n0  No injury to occupant, outrigger canoe and pad...           N   \n1                         Minor injury to left thigh           N   \n2       Injury to left lower leg from surfboard skeg           N   \n3                          Minor injury to lower leg           N   \n4  Lacerations to leg & hand shark PROVOKED INCIDENT           N   \n\n            Time         Species           Investigator or Source  \\\n0          18h00      White shark                R. Collier, GSAF   \n1  14h00  -15h00              NaN  K.McMurray, TrackingSharks.com   \n2          07h45              NaN  K.McMurray, TrackingSharks.com   \n3            NaN        2 m shark                  B. Myatt, GSAF   \n4            NaN  Tiger shark, 3m                       A .Kipper   \n\n                        pdf  \\\n0      2018.06.25-Wolfe.pdf   \n1    2018.06.18-McNeely.pdf   \n2     2018.06.09-Denges.pdf   \n3  2018.06.08-Arrawarra.pdf   \n4      2018.06.04-Ramos.pdf   \n\n                                        href formula  \\\n0  http://sharkattackfile.net/spreadsheets/pdf_di...   \n1  http://sharkattackfile.net/spreadsheets/pdf_di...   \n2  http://sharkattackfile.net/spreadsheets/pdf_di...   \n3  http://sharkattackfile.net/spreadsheets/pdf_di...   \n4  http://sharkattackfile.net/spreadsheets/pdf_di...   \n\n                                                href Case Number.1  \\\n0  http://sharkattackfile.net/spreadsheets/pdf_di...    2018.06.25   \n1  http://sharkattackfile.net/spreadsheets/pdf_di...    2018.06.18   \n2  http://sharkattackfile.net/spreadsheets/pdf_di...    2018.06.09   \n3  http://sharkattackfile.net/spreadsheets/pdf_di...    2018.06.08   \n4  http://sharkattackfile.net/spreadsheets/pdf_di...    2018.06.04   \n\n  Case Number.2  original order Unnamed: 22 Unnamed: 23  \n0    2018.06.25          6303.0         NaN         NaN  \n1    2018.06.18          6302.0         NaN         NaN  \n2    2018.06.09          6301.0         NaN         NaN  \n3    2018.06.08          6300.0         NaN         NaN  \n4    2018.06.04          6299.0         NaN         NaN  ",
      "text/html": "<div>\n<style scoped>\n    .dataframe tbody tr th:only-of-type {\n        vertical-align: middle;\n    }\n\n    .dataframe tbody tr th {\n        vertical-align: top;\n    }\n\n    .dataframe thead th {\n        text-align: right;\n    }\n</style>\n<table border=\"1\" class=\"dataframe\">\n  <thead>\n    <tr style=\"text-align: right;\">\n      <th></th>\n      <th>Case Number</th>\n      <th>Date</th>\n      <th>Year</th>\n      <th>Type</th>\n      <th>Country</th>\n      <th>Area</th>\n      <th>Location</th>\n      <th>Activity</th>\n      <th>Name</th>\n      <th>Sex</th>\n      <th>Age</th>\n      <th>Injury</th>\n      <th>Fatal (Y/N)</th>\n      <th>Time</th>\n      <th>Species</th>\n      <th>Investigator or Source</th>\n      <th>pdf</th>\n      <th>href formula</th>\n      <th>href</th>\n      <th>Case Number.1</th>\n      <th>Case Number.2</th>\n      <th>original order</th>\n      <th>Unnamed: 22</th>\n      <th>Unnamed: 23</th>\n    </tr>\n  </thead>\n  <tbody>\n    <tr>\n      <th>0</th>\n      <td>2018.06.25</td>\n      <td>25-Jun-2018</td>\n      <td>2018.0</td>\n      <td>Boating</td>\n      <td>USA</td>\n      <td>California</td>\n      <td>Oceanside, San Diego County</td>\n      <td>Paddling</td>\n      <td>Julie Wolfe</td>\n      <td>F</td>\n      <td>57</td>\n      <td>No injury to occupant, outrigger canoe and pad...</td>\n      <td>N</td>\n      <td>18h00</td>\n      <td>White shark</td>\n      <td>R. Collier, GSAF</td>\n      <td>2018.06.25-Wolfe.pdf</td>\n      <td>http://sharkattackfile.net/spreadsheets/pdf_di...</td>\n      <td>http://sharkattackfile.net/spreadsheets/pdf_di...</td>\n      <td>2018.06.25</td>\n      <td>2018.06.25</td>\n      <td>6303.0</td>\n      <td>NaN</td>\n      <td>NaN</td>\n    </tr>\n    <tr>\n      <th>1</th>\n      <td>2018.06.18</td>\n      <td>18-Jun-2018</td>\n      <td>2018.0</td>\n      <td>Unprovoked</td>\n      <td>USA</td>\n      <td>Georgia</td>\n      <td>St. Simon Island, Glynn County</td>\n      <td>Standing</td>\n      <td>Adyson McNeely</td>\n      <td>F</td>\n      <td>11</td>\n      <td>Minor injury to left thigh</td>\n      <td>N</td>\n      <td>14h00  -15h00</td>\n      <td>NaN</td>\n      <td>K.McMurray, TrackingSharks.com</td>\n      <td>2018.06.18-McNeely.pdf</td>\n      <td>http://sharkattackfile.net/spreadsheets/pdf_di...</td>\n      <td>http://sharkattackfile.net/spreadsheets/pdf_di...</td>\n      <td>2018.06.18</td>\n      <td>2018.06.18</td>\n      <td>6302.0</td>\n      <td>NaN</td>\n      <td>NaN</td>\n    </tr>\n    <tr>\n      <th>2</th>\n      <td>2018.06.09</td>\n      <td>09-Jun-2018</td>\n      <td>2018.0</td>\n      <td>Invalid</td>\n      <td>USA</td>\n      <td>Hawaii</td>\n      <td>Habush, Oahu</td>\n      <td>Surfing</td>\n      <td>John Denges</td>\n      <td>M</td>\n      <td>48</td>\n      <td>Injury to left lower leg from surfboard skeg</td>\n      <td>N</td>\n      <td>07h45</td>\n      <td>NaN</td>\n      <td>K.McMurray, TrackingSharks.com</td>\n      <td>2018.06.09-Denges.pdf</td>\n      <td>http://sharkattackfile.net/spreadsheets/pdf_di...</td>\n      <td>http://sharkattackfile.net/spreadsheets/pdf_di...</td>\n      <td>2018.06.09</td>\n      <td>2018.06.09</td>\n      <td>6301.0</td>\n      <td>NaN</td>\n      <td>NaN</td>\n    </tr>\n    <tr>\n      <th>3</th>\n      <td>2018.06.08</td>\n      <td>08-Jun-2018</td>\n      <td>2018.0</td>\n      <td>Unprovoked</td>\n      <td>AUSTRALIA</td>\n      <td>New South Wales</td>\n      <td>Arrawarra Headland</td>\n      <td>Surfing</td>\n      <td>male</td>\n      <td>M</td>\n      <td>NaN</td>\n      <td>Minor injury to lower leg</td>\n      <td>N</td>\n      <td>NaN</td>\n      <td>2 m shark</td>\n      <td>B. Myatt, GSAF</td>\n      <td>2018.06.08-Arrawarra.pdf</td>\n      <td>http://sharkattackfile.net/spreadsheets/pdf_di...</td>\n      <td>http://sharkattackfile.net/spreadsheets/pdf_di...</td>\n      <td>2018.06.08</td>\n      <td>2018.06.08</td>\n      <td>6300.0</td>\n      <td>NaN</td>\n      <td>NaN</td>\n    </tr>\n    <tr>\n      <th>4</th>\n      <td>2018.06.04</td>\n      <td>04-Jun-2018</td>\n      <td>2018.0</td>\n      <td>Provoked</td>\n      <td>MEXICO</td>\n      <td>Colima</td>\n      <td>La Ticla</td>\n      <td>Free diving</td>\n      <td>Gustavo Ramos</td>\n      <td>M</td>\n      <td>NaN</td>\n      <td>Lacerations to leg &amp; hand shark PROVOKED INCIDENT</td>\n      <td>N</td>\n      <td>NaN</td>\n      <td>Tiger shark, 3m</td>\n      <td>A .Kipper</td>\n      <td>2018.06.04-Ramos.pdf</td>\n      <td>http://sharkattackfile.net/spreadsheets/pdf_di...</td>\n      <td>http://sharkattackfile.net/spreadsheets/pdf_di...</td>\n      <td>2018.06.04</td>\n      <td>2018.06.04</td>\n      <td>6299.0</td>\n      <td>NaN</td>\n      <td>NaN</td>\n    </tr>\n  </tbody>\n</table>\n</div>"
     },
     "execution_count": 3,
     "metadata": {},
     "output_type": "execute_result"
    }
   ],
   "source": [
    "data.head() #muestra las primeras 5 filas para ver que esta bien"
   ]
  },
  {
   "cell_type": "code",
   "execution_count": 4,
   "metadata": {
    "pycharm": {
     "name": "#%%\n"
    }
   },
   "outputs": [
    {
     "name": "stdout",
     "output_type": "stream",
     "text": [
      "<class 'pandas.core.frame.DataFrame'>\n",
      "RangeIndex: 25723 entries, 0 to 25722\n",
      "Data columns (total 24 columns):\n",
      " #   Column                  Non-Null Count  Dtype  \n",
      "---  ------                  --------------  -----  \n",
      " 0   Case Number             8702 non-null   object \n",
      " 1   Date                    6302 non-null   object \n",
      " 2   Year                    6300 non-null   float64\n",
      " 3   Type                    6298 non-null   object \n",
      " 4   Country                 6252 non-null   object \n",
      " 5   Area                    5847 non-null   object \n",
      " 6   Location                5762 non-null   object \n",
      " 7   Activity                5758 non-null   object \n",
      " 8   Name                    6092 non-null   object \n",
      " 9   Sex                     5737 non-null   object \n",
      " 10  Age                     3471 non-null   object \n",
      " 11  Injury                  6274 non-null   object \n",
      " 12  Fatal (Y/N)             5763 non-null   object \n",
      " 13  Time                    2948 non-null   object \n",
      " 14  Species                 3464 non-null   object \n",
      " 15  Investigator or Source  6285 non-null   object \n",
      " 16  pdf                     6302 non-null   object \n",
      " 17  href formula            6301 non-null   object \n",
      " 18  href                    6302 non-null   object \n",
      " 19  Case Number.1           6302 non-null   object \n",
      " 20  Case Number.2           6302 non-null   object \n",
      " 21  original order          6309 non-null   float64\n",
      " 22  Unnamed: 22             1 non-null      object \n",
      " 23  Unnamed: 23             2 non-null      object \n",
      "dtypes: float64(2), object(22)\n",
      "memory usage: 4.7+ MB\n"
     ]
    }
   ],
   "source": [
    "data.info() #muestra la informacion del dataframe"
   ]
  },
  {
   "cell_type": "code",
   "execution_count": 5,
   "metadata": {
    "pycharm": {
     "name": "#%%\n"
    }
   },
   "outputs": [
    {
     "data": {
      "text/plain": "                 count         mean          std  min     25%     50%     75%  \\\nYear            6300.0  1927.272381   281.116308  0.0  1942.0  1977.0  2005.0   \noriginal order  6309.0  3155.999683  1821.396206  2.0  1579.0  3156.0  4733.0   \n\n                   max  \nYear            2018.0  \noriginal order  6310.0  ",
      "text/html": "<div>\n<style scoped>\n    .dataframe tbody tr th:only-of-type {\n        vertical-align: middle;\n    }\n\n    .dataframe tbody tr th {\n        vertical-align: top;\n    }\n\n    .dataframe thead th {\n        text-align: right;\n    }\n</style>\n<table border=\"1\" class=\"dataframe\">\n  <thead>\n    <tr style=\"text-align: right;\">\n      <th></th>\n      <th>count</th>\n      <th>mean</th>\n      <th>std</th>\n      <th>min</th>\n      <th>25%</th>\n      <th>50%</th>\n      <th>75%</th>\n      <th>max</th>\n    </tr>\n  </thead>\n  <tbody>\n    <tr>\n      <th>Year</th>\n      <td>6300.0</td>\n      <td>1927.272381</td>\n      <td>281.116308</td>\n      <td>0.0</td>\n      <td>1942.0</td>\n      <td>1977.0</td>\n      <td>2005.0</td>\n      <td>2018.0</td>\n    </tr>\n    <tr>\n      <th>original order</th>\n      <td>6309.0</td>\n      <td>3155.999683</td>\n      <td>1821.396206</td>\n      <td>2.0</td>\n      <td>1579.0</td>\n      <td>3156.0</td>\n      <td>4733.0</td>\n      <td>6310.0</td>\n    </tr>\n  </tbody>\n</table>\n</div>"
     },
     "execution_count": 5,
     "metadata": {},
     "output_type": "execute_result"
    }
   ],
   "source": [
    "data.describe().T #muestra la informacion estadistica del dataframe"
   ]
  },
  {
   "cell_type": "code",
   "execution_count": 6,
   "metadata": {
    "pycharm": {
     "name": "#%%\n"
    }
   },
   "outputs": [
    {
     "data": {
      "text/plain": "(25723, 24)"
     },
     "execution_count": 6,
     "metadata": {},
     "output_type": "execute_result"
    }
   ],
   "source": [
    "data.shape #muestra el numero de filas y columnas del dataframe"
   ]
  },
  {
   "cell_type": "code",
   "execution_count": 7,
   "metadata": {
    "pycharm": {
     "name": "#%%\n"
    }
   },
   "outputs": [
    {
     "data": {
      "text/plain": "Index(['Case Number', 'Date', 'Year', 'Type', 'Country', 'Area', 'Location',\n       'Activity', 'Name', 'Sex ', 'Age', 'Injury', 'Fatal (Y/N)', 'Time',\n       'Species ', 'Investigator or Source', 'pdf', 'href formula', 'href',\n       'Case Number.1', 'Case Number.2', 'original order', 'Unnamed: 22',\n       'Unnamed: 23'],\n      dtype='object')"
     },
     "execution_count": 7,
     "metadata": {},
     "output_type": "execute_result"
    }
   ],
   "source": [
    "data.columns #muestra las columnas del dataframe"
   ]
  },
  {
   "cell_type": "code",
   "execution_count": 8,
   "metadata": {
    "pycharm": {
     "name": "#%%\n"
    }
   },
   "outputs": [
    {
     "data": {
      "text/plain": "Case Number                object\nDate                       object\nYear                      float64\nType                       object\nCountry                    object\nArea                       object\nLocation                   object\nActivity                   object\nName                       object\nSex                        object\nAge                        object\nInjury                     object\nFatal (Y/N)                object\nTime                       object\nSpecies                    object\nInvestigator or Source     object\npdf                        object\nhref formula               object\nhref                       object\nCase Number.1              object\nCase Number.2              object\noriginal order            float64\nUnnamed: 22                object\nUnnamed: 23                object\ndtype: object"
     },
     "execution_count": 8,
     "metadata": {},
     "output_type": "execute_result"
    }
   ],
   "source": [
    "data.dtypes #muestra los tipos de datos del dataframe\n",
    "#menos \"Year\" y  \"original order\" todas contienen texto, estas 2  son las unicas que contienen numeros formato float"
   ]
  },
  {
   "cell_type": "code",
   "execution_count": 9,
   "metadata": {
    "pycharm": {
     "name": "#%%\n"
    }
   },
   "outputs": [
    {
     "data": {
      "text/plain": "Unnamed: 22               25722\nUnnamed: 23               25721\nTime                      22775\nSpecies                   22259\nAge                       22252\nSex                       19986\nActivity                  19965\nLocation                  19961\nFatal (Y/N)               19960\nArea                      19876\nName                      19631\nCountry                   19471\nInjury                    19449\nInvestigator or Source    19438\nType                      19425\nYear                      19423\nhref formula              19422\nDate                      19421\npdf                       19421\nhref                      19421\nCase Number.1             19421\nCase Number.2             19421\noriginal order            19414\nCase Number               17021\ndtype: int64"
     },
     "execution_count": 9,
     "metadata": {},
     "output_type": "execute_result"
    }
   ],
   "source": [
    "data.isnull().sum() #muestra el numero de valores nulos en cada columna\n",
    "null_columns = data.isnull().sum() #asigno a la variable null_columns el numero de valores nulos en cada columna\n",
    "null_columns[null_columns > 0] .sort_values(ascending=False)#muestra las columnas con valores nulos en orden descendente."
   ]
  },
  {
   "cell_type": "code",
   "execution_count": 10,
   "metadata": {
    "pycharm": {
     "name": "#%%\n"
    }
   },
   "outputs": [
    {
     "data": {
      "text/plain": "488276"
     },
     "execution_count": 10,
     "metadata": {},
     "output_type": "execute_result"
    }
   ],
   "source": [
    "data.isnull().sum().sum() #muestra el numero de valores nulos en todo el dataframe"
   ]
  },
  {
   "cell_type": "code",
   "execution_count": 11,
   "metadata": {
    "pycharm": {
     "name": "#%%\n"
    }
   },
   "outputs": [
    {
     "data": {
      "text/plain": "18.982078295688684"
     },
     "execution_count": 11,
     "metadata": {},
     "output_type": "execute_result"
    }
   ],
   "source": [
    "data.isnull().sum().sum()/data.shape[0] #muestra el porcentaje de valores nulos en todo el dataframe"
   ]
  },
  {
   "cell_type": "code",
   "execution_count": 12,
   "metadata": {
    "pycharm": {
     "name": "#%%\n"
    }
   },
   "outputs": [
    {
     "data": {
      "text/plain": "<Figure size 432x288 with 1 Axes>",
      "image/png": "[encoded data removed]"
     },
     "metadata": {
      "needs_background": "light"
     },
     "output_type": "display_data"
    }
   ],
   "source": [
    "sns.heatmap(data.isnull(), yticklabels=False, cbar=False, cmap='viridis'); #muestra el mapa de calor de los valores nulos"
   ]
  },
  {
   "cell_type": "code",
   "execution_count": 13,
   "outputs": [
    {
     "data": {
      "text/plain": "<Figure size 432x288 with 1 Axes>",
      "image/png": "[encoded data removed]"
     },
     "metadata": {
      "needs_background": "light"
     },
     "output_type": "display_data"
    }
   ],
   "source": [
    "#Las columnas Unnamed: 22 y 23 son las que contienen el mayor numero de nulos como hemos podido observar en la grafica anterior.\n",
    "#Vamos a rellenar estos nulos con \"'0'\", para que no nos de problemas .\n",
    "#relleno los valores nulos de las  columnas 'Unnamed:22' y 'Unnamed:23' con el valor 0\n",
    "data['Unnamed: 22'].fillna(0, inplace=True)\n",
    "data['Unnamed: 23'].fillna(0, inplace=True)\n",
    "#veamos como quedan plasmados en la grafica de valores nulos.\n",
    "sns.heatmap(data.isnull(), yticklabels=False, cbar=False, cmap='viridis');"
   ],
   "metadata": {
    "collapsed": false,
    "pycharm": {
     "name": "#%%\n"
    }
   }
  },
  {
   "cell_type": "code",
   "execution_count": 14,
   "outputs": [
    {
     "data": {
      "text/plain": "Case Number               17021\nDate                      19421\nYear                      19423\nType                      19425\nCountry                   19471\nArea                      19876\nLocation                  19961\nActivity                  19965\nName                      19631\nSex                       19986\nAge                       22252\nInjury                    19449\nFatal (Y/N)               19960\nTime                      22775\nSpecies                   22259\nInvestigator or Source    19438\npdf                       19421\nhref formula              19422\nhref                      19421\nCase Number.1             19421\nCase Number.2             19421\noriginal order            19414\nUnnamed: 22                   0\nUnnamed: 23                   0\ndtype: int64"
     },
     "execution_count": 14,
     "metadata": {},
     "output_type": "execute_result"
    }
   ],
   "source": [
    "#Comprobacion de que los valores nulos se han rellenado correctamente con los 0 en las columnas 'Unnamed:22' y 'Unnamed:23'\n",
    "data.isnull().sum()"
   ],
   "metadata": {
    "collapsed": false,
    "pycharm": {
     "name": "#%%\n"
    }
   }
  },
  {
   "cell_type": "code",
   "execution_count": 15,
   "outputs": [
    {
     "data": {
      "text/plain": "  Case Number Case Number.1 Case Number.2\n0  2018.06.25    2018.06.25    2018.06.25\n1  2018.06.18    2018.06.18    2018.06.18\n2  2018.06.09    2018.06.09    2018.06.09\n3  2018.06.08    2018.06.08    2018.06.08\n4  2018.06.04    2018.06.04    2018.06.04",
      "text/html": "<div>\n<style scoped>\n    .dataframe tbody tr th:only-of-type {\n        vertical-align: middle;\n    }\n\n    .dataframe tbody tr th {\n        vertical-align: top;\n    }\n\n    .dataframe thead th {\n        text-align: right;\n    }\n</style>\n<table border=\"1\" class=\"dataframe\">\n  <thead>\n    <tr style=\"text-align: right;\">\n      <th></th>\n      <th>Case Number</th>\n      <th>Case Number.1</th>\n      <th>Case Number.2</th>\n    </tr>\n  </thead>\n  <tbody>\n    <tr>\n      <th>0</th>\n      <td>2018.06.25</td>\n      <td>2018.06.25</td>\n      <td>2018.06.25</td>\n    </tr>\n    <tr>\n      <th>1</th>\n      <td>2018.06.18</td>\n      <td>2018.06.18</td>\n      <td>2018.06.18</td>\n    </tr>\n    <tr>\n      <th>2</th>\n      <td>2018.06.09</td>\n      <td>2018.06.09</td>\n      <td>2018.06.09</td>\n    </tr>\n    <tr>\n      <th>3</th>\n      <td>2018.06.08</td>\n      <td>2018.06.08</td>\n      <td>2018.06.08</td>\n    </tr>\n    <tr>\n      <th>4</th>\n      <td>2018.06.04</td>\n      <td>2018.06.04</td>\n      <td>2018.06.04</td>\n    </tr>\n  </tbody>\n</table>\n</div>"
     },
     "execution_count": 15,
     "metadata": {},
     "output_type": "execute_result"
    }
   ],
   "source": [
    "# En este caso podriamos borrar estas 2 columnas ya que no nos interesan para el proceso de prediccion.\n",
    "#Sin embargo una de las restricciones es que no se puede borrar ninguna columna del dataframe.\n",
    "#Por lo tanto las dejaremos apartadas(simplemente las ignoraremos y las daremos por limpiadas).\n",
    "#Comenzamos con la limpieza de la columna 'Case Number' , que en este caso nos encontramos que hay 3 columnas con con el mismo comienzo de indice 'Case Number' (0,1,2).\n",
    "#Veamos en que se parecen los valores de estas 3 columnas.\n",
    "data[['Case Number','Case Number.1','Case Number.2']].head()"
   ],
   "metadata": {
    "collapsed": false,
    "pycharm": {
     "name": "#%%\n"
    }
   }
  },
  {
   "cell_type": "code",
   "execution_count": 16,
   "outputs": [
    {
     "data": {
      "text/plain": "19434"
     },
     "execution_count": 16,
     "metadata": {},
     "output_type": "execute_result"
    }
   ],
   "source": [
    "#A simple vista los valores parecen estar duplicados, veamos si es cierto.\n",
    "data[['Case Number','Case Number.1','Case Number.2']].duplicated().sum()"
   ],
   "metadata": {
    "collapsed": false,
    "pycharm": {
     "name": "#%%\n"
    }
   }
  },
  {
   "cell_type": "code",
   "execution_count": 17,
   "outputs": [
    {
     "data": {
      "text/plain": "True     23299\nFalse     2424\nName: Case Number, dtype: int64"
     },
     "execution_count": 17,
     "metadata": {},
     "output_type": "execute_result"
    }
   ],
   "source": [
    "#Veamos si los valores de la columna 'Case Number' son iguales a los de la columna 'Case Number.1' y cuantos son iguales.\n",
    "data['Case Number'].isin(data['Case Number.1'] ).value_counts()"
   ],
   "metadata": {
    "collapsed": false,
    "pycharm": {
     "name": "#%%\n"
    }
   }
  },
  {
   "cell_type": "code",
   "execution_count": 18,
   "outputs": [
    {
     "data": {
      "text/plain": "True     23319\nFalse     2404\nName: Case Number, dtype: int64"
     },
     "execution_count": 18,
     "metadata": {},
     "output_type": "execute_result"
    }
   ],
   "source": [
    "#Misma operacion con la columna 'Case Number.2'\n",
    "data['Case Number'].isin(data['Case Number.2'] ).value_counts()"
   ],
   "metadata": {
    "collapsed": false,
    "pycharm": {
     "name": "#%%\n"
    }
   }
  },
  {
   "cell_type": "code",
   "execution_count": 19,
   "outputs": [
    {
     "data": {
      "text/plain": "True     25704\nFalse       19\nName: Case Number.1, dtype: int64"
     },
     "execution_count": 19,
     "metadata": {},
     "output_type": "execute_result"
    }
   ],
   "source": [
    "#Ahora entre 'Case Number.1' y 'Case Number.2'\n",
    "data['Case Number.1'].isin(data['Case Number.2'] ).value_counts()"
   ],
   "metadata": {
    "collapsed": false,
    "pycharm": {
     "name": "#%%\n"
    }
   }
  },
  {
   "cell_type": "code",
   "execution_count": 20,
   "outputs": [
    {
     "data": {
      "text/plain": "        Case Number         Date    Year        Type       Country  \\\n34       2018.04.03  03-Apr-2018  2018.0  Unprovoked  SOUTH AFRICA   \n117    2017.07.20.a  20-Jul-2017  2017.0  Unprovoked           USA   \n144      2017.05.06  05-May-2017  2017.0  Unprovoked        MEXICO   \n217      2016.09.15  16-Sep-2016  2016.0  Unprovoked     AUSTRALIA   \n314    2016.01.24.b  24-Jan-2016  2016.0  Unprovoked           USA   \n...             ...          ...     ...         ...           ...   \n8698              0          NaN     NaN         NaN           NaN   \n8699              0          NaN     NaN         NaN           NaN   \n8700              0          NaN     NaN         NaN           NaN   \n8701              0          NaN     NaN         NaN           NaN   \n25722            xx          NaN     NaN         NaN           NaN   \n\n                        Area                                Location  \\\n34     Eastern Cape Province                         St. Francis Bay   \n117               California  Seal Rock, Goleta Beach, Santa Barbara   \n144      Baja California Sur               Los Arbolitos, Cabo Pulmo   \n217                 Victoria                             Bells Beach   \n314                    Texas                            Off Surfside   \n...                      ...                                     ...   \n8698                     NaN                                     NaN   \n8699                     NaN                                     NaN   \n8700                     NaN                                     NaN   \n8701                     NaN                                     NaN   \n25722                    NaN                                     NaN   \n\n           Activity           Name Sex   Age  \\\n34          Surfing   Ross Spowart    M   19   \n117             SUP   Rolf Geyling    M   50   \n144      Snorkeling  Andres Rozada    M   33   \n217         Surfing           male    M  NaN   \n314    Spearfishing     Keith Love    M  NaN   \n...             ...            ...  ...  ...   \n8698            NaN            NaN  NaN  NaN   \n8699            NaN            NaN  NaN  NaN   \n8700            NaN            NaN  NaN  NaN   \n8701            NaN            NaN  NaN  NaN   \n25722           NaN            NaN  NaN  NaN   \n\n                                                  Injury Fatal (Y/N)  \\\n34                  Lacerations to left knee & lower leg           N   \n117                     No injury, shark bit paddleboard           N   \n144                                                FATAL           Y   \n217                No injury: Knocked off board by shark           N   \n314    Bruised ribs & tail bone, speargun broken and ...           N   \n...                                                  ...         ...   \n8698                                                 NaN         NaN   \n8699                                                 NaN         NaN   \n8700                                                 NaN         NaN   \n8701                                                 NaN         NaN   \n25722                                                NaN         NaN   \n\n                Time                Species            Investigator or Source  \\\n34             15h00             White shark  K. McMurray, TrackingSharks.com   \n117            07h45  White shark, 8' to 10'                 R. Collier, GSAF   \n144            17h00                     NaN                        J. Rozada   \n217              NaN               2 m shark               The Age, 9/16/2016   \n314    09h30 / 10h00         Bull sharks x 2                          K. Love   \n...              ...                     ...                              ...   \n8698             NaN                     NaN                              NaN   \n8699             NaN                     NaN                              NaN   \n8700             NaN                     NaN                              NaN   \n8701             NaN                     NaN                              NaN   \n25722            NaN                     NaN                              NaN   \n\n                               pdf  \\\n34     2018.04.03-StFrancisBay.pdf   \n117       2017.07.20.a-Geyling.pdf   \n144          2017.05.06-Rozada.pdf   \n217      2016.09.16-BellsBeach.pdf   \n314          2016.01.24.b-Love.pdf   \n...                            ...   \n8698                           NaN   \n8699                           NaN   \n8700                           NaN   \n8701                           NaN   \n25722                          NaN   \n\n                                            href formula  \\\n34     http://sharkattackfile.net/spreadsheets/pdf_di...   \n117    http://sharkattackfile.net/spreadsheets/pdf_di...   \n144    http://sharkattackfile.net/spreadsheets/pdf_di...   \n217    http://sharkattackfile.net/spreadsheets/pdf_di...   \n314    http://sharkattackfile.net/spreadsheets/pdf_di...   \n...                                                  ...   \n8698                                                 NaN   \n8699                                                 NaN   \n8700                                                 NaN   \n8701                                                 NaN   \n25722                                                NaN   \n\n                                                    href Case Number.1  \\\n34     http://sharkattackfile.net/spreadsheets/pdf_di...    2018.04.02   \n117    http://sharkattackfile.net/spreadsheets/pdf_di...  2017/07.20.a   \n144    http://sharkattackfile.net/spreadsheets/pdf_di...    2017.06.06   \n217    http://sharkattackfile.net/spreadsheets/pdf_di...    2016.09.16   \n314    http://sharkattackfile.net/spreadsheets/pdf_di...  2015.01.24.b   \n...                                                  ...           ...   \n8698                                                 NaN           NaN   \n8699                                                 NaN           NaN   \n8700                                                 NaN           NaN   \n8701                                                 NaN           NaN   \n25722                                                NaN           NaN   \n\n      Case Number.2  original order Unnamed: 22 Unnamed: 23  \n34       2018.04.03          6269.0           0           0  \n117    2017.07.20.a          6186.0           0           0  \n144      2017.05.06          6159.0           0           0  \n217      2016.09.15          6086.0           0           0  \n314    2016.01.24.b          5989.0           0           0  \n...             ...             ...         ...         ...  \n8698            NaN             NaN           0           0  \n8699            NaN             NaN           0           0  \n8700            NaN             NaN           0           0  \n8701            NaN             NaN           0           0  \n25722           NaN             NaN           0           0  \n\n[2424 rows x 24 columns]",
      "text/html": "<div>\n<style scoped>\n    .dataframe tbody tr th:only-of-type {\n        vertical-align: middle;\n    }\n\n    .dataframe tbody tr th {\n        vertical-align: top;\n    }\n\n    .dataframe thead th {\n        text-align: right;\n    }\n</style>\n<table border=\"1\" class=\"dataframe\">\n  <thead>\n    <tr style=\"text-align: right;\">\n      <th></th>\n      <th>Case Number</th>\n      <th>Date</th>\n      <th>Year</th>\n      <th>Type</th>\n      <th>Country</th>\n      <th>Area</th>\n      <th>Location</th>\n      <th>Activity</th>\n      <th>Name</th>\n      <th>Sex</th>\n      <th>Age</th>\n      <th>Injury</th>\n      <th>Fatal (Y/N)</th>\n      <th>Time</th>\n      <th>Species</th>\n      <th>Investigator or Source</th>\n      <th>pdf</th>\n      <th>href formula</th>\n      <th>href</th>\n      <th>Case Number.1</th>\n      <th>Case Number.2</th>\n      <th>original order</th>\n      <th>Unnamed: 22</th>\n      <th>Unnamed: 23</th>\n    </tr>\n  </thead>\n  <tbody>\n    <tr>\n      <th>34</th>\n      <td>2018.04.03</td>\n      <td>03-Apr-2018</td>\n      <td>2018.0</td>\n      <td>Unprovoked</td>\n      <td>SOUTH AFRICA</td>\n      <td>Eastern Cape Province</td>\n      <td>St. Francis Bay</td>\n      <td>Surfing</td>\n      <td>Ross Spowart</td>\n      <td>M</td>\n      <td>19</td>\n      <td>Lacerations to left knee &amp; lower leg</td>\n      <td>N</td>\n      <td>15h00</td>\n      <td>White shark</td>\n      <td>K. McMurray, TrackingSharks.com</td>\n      <td>2018.04.03-StFrancisBay.pdf</td>\n      <td>http://sharkattackfile.net/spreadsheets/pdf_di...</td>\n      <td>http://sharkattackfile.net/spreadsheets/pdf_di...</td>\n      <td>2018.04.02</td>\n      <td>2018.04.03</td>\n      <td>6269.0</td>\n      <td>0</td>\n      <td>0</td>\n    </tr>\n    <tr>\n      <th>117</th>\n      <td>2017.07.20.a</td>\n      <td>20-Jul-2017</td>\n      <td>2017.0</td>\n      <td>Unprovoked</td>\n      <td>USA</td>\n      <td>California</td>\n      <td>Seal Rock, Goleta Beach, Santa Barbara</td>\n      <td>SUP</td>\n      <td>Rolf Geyling</td>\n      <td>M</td>\n      <td>50</td>\n      <td>No injury, shark bit paddleboard</td>\n      <td>N</td>\n      <td>07h45</td>\n      <td>White shark, 8' to 10'</td>\n      <td>R. Collier, GSAF</td>\n      <td>2017.07.20.a-Geyling.pdf</td>\n      <td>http://sharkattackfile.net/spreadsheets/pdf_di...</td>\n      <td>http://sharkattackfile.net/spreadsheets/pdf_di...</td>\n      <td>2017/07.20.a</td>\n      <td>2017.07.20.a</td>\n      <td>6186.0</td>\n      <td>0</td>\n      <td>0</td>\n    </tr>\n    <tr>\n      <th>144</th>\n      <td>2017.05.06</td>\n      <td>05-May-2017</td>\n      <td>2017.0</td>\n      <td>Unprovoked</td>\n      <td>MEXICO</td>\n      <td>Baja California Sur</td>\n      <td>Los Arbolitos, Cabo Pulmo</td>\n      <td>Snorkeling</td>\n      <td>Andres Rozada</td>\n      <td>M</td>\n      <td>33</td>\n      <td>FATAL</td>\n      <td>Y</td>\n      <td>17h00</td>\n      <td>NaN</td>\n      <td>J. Rozada</td>\n      <td>2017.05.06-Rozada.pdf</td>\n      <td>http://sharkattackfile.net/spreadsheets/pdf_di...</td>\n      <td>http://sharkattackfile.net/spreadsheets/pdf_di...</td>\n      <td>2017.06.06</td>\n      <td>2017.05.06</td>\n      <td>6159.0</td>\n      <td>0</td>\n      <td>0</td>\n    </tr>\n    <tr>\n      <th>217</th>\n      <td>2016.09.15</td>\n      <td>16-Sep-2016</td>\n      <td>2016.0</td>\n      <td>Unprovoked</td>\n      <td>AUSTRALIA</td>\n      <td>Victoria</td>\n      <td>Bells Beach</td>\n      <td>Surfing</td>\n      <td>male</td>\n      <td>M</td>\n      <td>NaN</td>\n      <td>No injury: Knocked off board by shark</td>\n      <td>N</td>\n      <td>NaN</td>\n      <td>2 m shark</td>\n      <td>The Age, 9/16/2016</td>\n      <td>2016.09.16-BellsBeach.pdf</td>\n      <td>http://sharkattackfile.net/spreadsheets/pdf_di...</td>\n      <td>http://sharkattackfile.net/spreadsheets/pdf_di...</td>\n      <td>2016.09.16</td>\n      <td>2016.09.15</td>\n      <td>6086.0</td>\n      <td>0</td>\n      <td>0</td>\n    </tr>\n    <tr>\n      <th>314</th>\n      <td>2016.01.24.b</td>\n      <td>24-Jan-2016</td>\n      <td>2016.0</td>\n      <td>Unprovoked</td>\n      <td>USA</td>\n      <td>Texas</td>\n      <td>Off Surfside</td>\n      <td>Spearfishing</td>\n      <td>Keith Love</td>\n      <td>M</td>\n      <td>NaN</td>\n      <td>Bruised ribs &amp; tail bone, speargun broken and ...</td>\n      <td>N</td>\n      <td>09h30 / 10h00</td>\n      <td>Bull sharks x 2</td>\n      <td>K. Love</td>\n      <td>2016.01.24.b-Love.pdf</td>\n      <td>http://sharkattackfile.net/spreadsheets/pdf_di...</td>\n      <td>http://sharkattackfile.net/spreadsheets/pdf_di...</td>\n      <td>2015.01.24.b</td>\n      <td>2016.01.24.b</td>\n      <td>5989.0</td>\n      <td>0</td>\n      <td>0</td>\n    </tr>\n    <tr>\n      <th>...</th>\n      <td>...</td>\n      <td>...</td>\n      <td>...</td>\n      <td>...</td>\n      <td>...</td>\n      <td>...</td>\n      <td>...</td>\n      <td>...</td>\n      <td>...</td>\n      <td>...</td>\n      <td>...</td>\n      <td>...</td>\n      <td>...</td>\n      <td>...</td>\n      <td>...</td>\n      <td>...</td>\n      <td>...</td>\n      <td>...</td>\n      <td>...</td>\n      <td>...</td>\n      <td>...</td>\n      <td>...</td>\n      <td>...</td>\n      <td>...</td>\n    </tr>\n    <tr>\n      <th>8698</th>\n      <td>0</td>\n      <td>NaN</td>\n      <td>NaN</td>\n      <td>NaN</td>\n      <td>NaN</td>\n      <td>NaN</td>\n      <td>NaN</td>\n      <td>NaN</td>\n      <td>NaN</td>\n      <td>NaN</td>\n      <td>NaN</td>\n      <td>NaN</td>\n      <td>NaN</td>\n      <td>NaN</td>\n      <td>NaN</td>\n      <td>NaN</td>\n      <td>NaN</td>\n      <td>NaN</td>\n      <td>NaN</td>\n      <td>NaN</td>\n      <td>NaN</td>\n      <td>NaN</td>\n      <td>0</td>\n      <td>0</td>\n    </tr>\n    <tr>\n      <th>8699</th>\n      <td>0</td>\n      <td>NaN</td>\n      <td>NaN</td>\n      <td>NaN</td>\n      <td>NaN</td>\n      <td>NaN</td>\n      <td>NaN</td>\n      <td>NaN</td>\n      <td>NaN</td>\n      <td>NaN</td>\n      <td>NaN</td>\n      <td>NaN</td>\n      <td>NaN</td>\n      <td>NaN</td>\n      <td>NaN</td>\n      <td>NaN</td>\n      <td>NaN</td>\n      <td>NaN</td>\n      <td>NaN</td>\n      <td>NaN</td>\n      <td>NaN</td>\n      <td>NaN</td>\n      <td>0</td>\n      <td>0</td>\n    </tr>\n    <tr>\n      <th>8700</th>\n      <td>0</td>\n      <td>NaN</td>\n      <td>NaN</td>\n      <td>NaN</td>\n      <td>NaN</td>\n      <td>NaN</td>\n      <td>NaN</td>\n      <td>NaN</td>\n      <td>NaN</td>\n      <td>NaN</td>\n      <td>NaN</td>\n      <td>NaN</td>\n      <td>NaN</td>\n      <td>NaN</td>\n      <td>NaN</td>\n      <td>NaN</td>\n      <td>NaN</td>\n      <td>NaN</td>\n      <td>NaN</td>\n      <td>NaN</td>\n      <td>NaN</td>\n      <td>NaN</td>\n      <td>0</td>\n      <td>0</td>\n    </tr>\n    <tr>\n      <th>8701</th>\n      <td>0</td>\n      <td>NaN</td>\n      <td>NaN</td>\n      <td>NaN</td>\n      <td>NaN</td>\n      <td>NaN</td>\n      <td>NaN</td>\n      <td>NaN</td>\n      <td>NaN</td>\n      <td>NaN</td>\n      <td>NaN</td>\n      <td>NaN</td>\n      <td>NaN</td>\n      <td>NaN</td>\n      <td>NaN</td>\n      <td>NaN</td>\n      <td>NaN</td>\n      <td>NaN</td>\n      <td>NaN</td>\n      <td>NaN</td>\n      <td>NaN</td>\n      <td>NaN</td>\n      <td>0</td>\n      <td>0</td>\n    </tr>\n    <tr>\n      <th>25722</th>\n      <td>xx</td>\n      <td>NaN</td>\n      <td>NaN</td>\n      <td>NaN</td>\n      <td>NaN</td>\n      <td>NaN</td>\n      <td>NaN</td>\n      <td>NaN</td>\n      <td>NaN</td>\n      <td>NaN</td>\n      <td>NaN</td>\n      <td>NaN</td>\n      <td>NaN</td>\n      <td>NaN</td>\n      <td>NaN</td>\n      <td>NaN</td>\n      <td>NaN</td>\n      <td>NaN</td>\n      <td>NaN</td>\n      <td>NaN</td>\n      <td>NaN</td>\n      <td>NaN</td>\n      <td>0</td>\n      <td>0</td>\n    </tr>\n  </tbody>\n</table>\n<p>2424 rows × 24 columns</p>\n</div>"
     },
     "execution_count": 20,
     "metadata": {},
     "output_type": "execute_result"
    }
   ],
   "source": [
    "#Resumen de los NO duplicados entre las columnas ' Case Number' , 'Case Number.1' y 'Case Number.2'\n",
    "#Entre 'Case Number' y 'Case Number.1' hay un total de 2424 valores NO duplicados.\n",
    "#Entre 'Case Number' y 'Case Number.2' hay un total de 2404  valores NO duplicados.\n",
    "#Entre 'Case Number.1' y 'Case Number.2' hay un total de 19 valores NO duplicados.\n",
    "#Vamos a inspeccionar esos valores NO duplicados para ver si son fallos en la escritura del numero de caso.\n",
    "#Con el \"~\" invertimos la condicion, para que nos muestre los valores NO duplicados.\n",
    "data[~data['Case Number'].isin(data['Case Number.1'] )]"
   ],
   "metadata": {
    "collapsed": false,
    "pycharm": {
     "name": "#%%\n"
    }
   }
  },
  {
   "cell_type": "code",
   "execution_count": 21,
   "outputs": [],
   "source": [
    "#A simple vista  hay valores en 'Case Number' con '0' como unico valor y en 'Case Number.1' estos mismos valores son NaN.\n",
    "#Veamos como quedan los valores entre 'Case Number' y 'Case Number.1' si los modificamos para que estos valores NaN sean 0.\n",
    "data['Case Number.1'].fillna(0, inplace=True)"
   ],
   "metadata": {
    "collapsed": false,
    "pycharm": {
     "name": "#%%\n"
    }
   }
  },
  {
   "cell_type": "code",
   "execution_count": 22,
   "outputs": [
    {
     "data": {
      "text/plain": "<Figure size 432x288 with 1 Axes>",
      "image/png": "[encoded data removed]"
     },
     "metadata": {
      "needs_background": "light"
     },
     "output_type": "display_data"
    }
   ],
   "source": [
    "#Mapa de calor.\n",
    "sns.heatmap(data.isnull(), yticklabels=False, cbar=False, cmap='viridis');"
   ],
   "metadata": {
    "collapsed": false,
    "pycharm": {
     "name": "#%%\n"
    }
   }
  },
  {
   "cell_type": "code",
   "execution_count": 23,
   "outputs": [
    {
     "name": "stdout",
     "output_type": "stream",
     "text": [
      "<class 'pandas.core.frame.DataFrame'>\n",
      "RangeIndex: 25723 entries, 0 to 25722\n",
      "Data columns (total 24 columns):\n",
      " #   Column                  Non-Null Count  Dtype  \n",
      "---  ------                  --------------  -----  \n",
      " 0   Case Number             8702 non-null   object \n",
      " 1   Date                    6302 non-null   object \n",
      " 2   Year                    6300 non-null   float64\n",
      " 3   Type                    6298 non-null   object \n",
      " 4   Country                 6252 non-null   object \n",
      " 5   Area                    5847 non-null   object \n",
      " 6   Location                5762 non-null   object \n",
      " 7   Activity                5758 non-null   object \n",
      " 8   Name                    6092 non-null   object \n",
      " 9   Sex                     5737 non-null   object \n",
      " 10  Age                     3471 non-null   object \n",
      " 11  Injury                  6274 non-null   object \n",
      " 12  Fatal (Y/N)             5763 non-null   object \n",
      " 13  Time                    2948 non-null   object \n",
      " 14  Species                 3464 non-null   object \n",
      " 15  Investigator or Source  6285 non-null   object \n",
      " 16  pdf                     6302 non-null   object \n",
      " 17  href formula            6301 non-null   object \n",
      " 18  href                    6302 non-null   object \n",
      " 19  Case Number.1           25723 non-null  object \n",
      " 20  Case Number.2           6302 non-null   object \n",
      " 21  original order          6309 non-null   float64\n",
      " 22  Unnamed: 22             25723 non-null  object \n",
      " 23  Unnamed: 23             25723 non-null  object \n",
      "dtypes: float64(2), object(22)\n",
      "memory usage: 4.7+ MB\n"
     ]
    }
   ],
   "source": [
    "data.info()"
   ],
   "metadata": {
    "collapsed": false,
    "pycharm": {
     "name": "#%%\n"
    }
   }
  },
  {
   "cell_type": "code",
   "execution_count": 22,
   "outputs": [],
   "source": [],
   "metadata": {
    "collapsed": false,
    "pycharm": {
     "name": "#%%\n"
    }
   }
  },
  {
   "cell_type": "code",
   "execution_count": 22,
   "outputs": [],
   "source": [],
   "metadata": {
    "collapsed": false,
    "pycharm": {
     "name": "#%%\n"
    }
   }
  },
  {
   "cell_type": "code",
   "execution_count": 22,
   "outputs": [],
   "source": [],
   "metadata": {
    "collapsed": false,
    "pycharm": {
     "name": "#%%\n"
    }
   }
  },
  {
   "cell_type": "code",
   "execution_count": 22,
   "outputs": [],
   "source": [],
   "metadata": {
    "collapsed": false,
    "pycharm": {
     "name": "#%%\n"
    }
   }
  },
  {
   "cell_type": "code",
   "execution_count": 22,
   "outputs": [],
   "source": [],
   "metadata": {
    "collapsed": false,
    "pycharm": {
     "name": "#%%\n"
    }
   }
  },
  {
   "cell_type": "code",
   "execution_count": 22,
   "outputs": [],
   "source": [],
   "metadata": {
    "collapsed": false,
    "pycharm": {
     "name": "#%%\n"
    }
   }
  },
  {
   "cell_type": "code",
   "execution_count": 22,
   "outputs": [],
   "source": [],
   "metadata": {
    "collapsed": false,
    "pycharm": {
     "name": "#%%\n"
    }
   }
  },
  {
   "cell_type": "code",
   "execution_count": 22,
   "outputs": [],
   "source": [],
   "metadata": {
    "collapsed": false,
    "pycharm": {
     "name": "#%%\n"
    }
   }
  },
  {
   "cell_type": "code",
   "execution_count": 22,
   "outputs": [],
   "source": [],
   "metadata": {
    "collapsed": false,
    "pycharm": {
     "name": "#%%\n"
    }
   }
  },
  {
   "cell_type": "code",
   "execution_count": 22,
   "outputs": [],
   "source": [],
   "metadata": {
    "collapsed": false,
    "pycharm": {
     "name": "#%%\n"
    }
   }
  },
  {
   "cell_type": "code",
   "execution_count": 22,
   "outputs": [],
   "source": [],
   "metadata": {
    "collapsed": false,
    "pycharm": {
     "name": "#%%\n"
    }
   }
  },
  {
   "cell_type": "code",
   "execution_count": 22,
   "outputs": [],
   "source": [],
   "metadata": {
    "collapsed": false,
    "pycharm": {
     "name": "#%%\n"
    }
   }
  },
  {
   "cell_type": "code",
   "execution_count": 22,
   "outputs": [],
   "source": [],
   "metadata": {
    "collapsed": false,
    "pycharm": {
     "name": "#%%\n"
    }
   }
  },
  {
   "cell_type": "code",
   "execution_count": 22,
   "outputs": [],
   "source": [],
   "metadata": {
    "collapsed": false,
    "pycharm": {
     "name": "#%%\n"
    }
   }
  }
 ],
 "metadata": {
  "kernelspec": {
   "display_name": "Python 3 (ipykernel)",
   "language": "python",
   "name": "python3"
  },
  "language_info": {
   "codemirror_mode": {
    "name": "ipython",
    "version": 3
   },
   "file_extension": ".py",
   "mimetype": "text/x-python",
   "name": "python",
   "nbconvert_exporter": "python",
   "pygments_lexer": "ipython3",
   "version": "3.9.7"
  }
 },
 "nbformat": 4,
 "nbformat_minor": 1
}